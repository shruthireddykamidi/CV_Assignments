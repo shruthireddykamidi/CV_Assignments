{
 "cells": [
  {
   "cell_type": "markdown",
   "id": "b510a6fc",
   "metadata": {},
   "source": [
    "## Question 2.\n",
    "\n",
    "Write a MATLAB/Python script to find the real world dimensions (e.g. diameter of a ball, side length of a cube) of an object using perspective projection equations. Validate using an experiment where you image an object using your camera from a specific distance (choose any distance but ensure you are able to measure it accurately) between the object and camera.\n",
    "\n",
    "\n",
    "### Solution\n",
    "\n",
    "**NOTE:** <br />\n",
    "please run q1.ipynb before running q2.ipynb \n",
    "q1.ipynb saves all the important camera information \n",
    "(camera, rotational, and translational matrices) which \n",
    "are mandatory for q2.ipynb to work!\n"
   ]
  },
  {
   "cell_type": "code",
   "execution_count": 1,
   "id": "d877ac18",
   "metadata": {},
   "outputs": [],
   "source": [
    "import numpy as np\n",
    "import cv2 as cv\n",
    "from scipy.spatial.transform import Rotation\n",
    "from math import cos, sin, radians"
   ]
  },
  {
   "cell_type": "code",
   "execution_count": 45,
   "id": "38bfff9b",
   "metadata": {
    "collapsed": true
   },
   "outputs": [
    {
     "name": "stdout",
     "output_type": "stream",
     "text": [
      "Rotation vector:\n",
      "[[[ 0.19758]\n",
      "  [-0.00655]\n",
      "  [ 0.0063 ]]\n",
      "\n",
      " [[ 0.20569]\n",
      "  [ 0.03023]\n",
      "  [ 0.00369]]\n",
      "\n",
      " [[ 0.10432]\n",
      "  [ 0.03595]\n",
      "  [ 0.02063]]\n",
      "\n",
      " [[ 0.1286 ]\n",
      "  [-0.00654]\n",
      "  [ 0.01703]]\n",
      "\n",
      " [[ 0.10085]\n",
      "  [ 0.01447]\n",
      "  [ 0.01957]]\n",
      "\n",
      " [[ 0.11166]\n",
      "  [ 0.0606 ]\n",
      "  [ 0.02276]]\n",
      "\n",
      " [[ 0.14803]\n",
      "  [ 0.07052]\n",
      "  [ 0.0118 ]]\n",
      "\n",
      " [[ 0.15267]\n",
      "  [-0.01626]\n",
      "  [ 0.01514]]\n",
      "\n",
      " [[ 0.1488 ]\n",
      "  [ 0.08836]\n",
      "  [ 0.00804]]\n",
      "\n",
      " [[ 0.17478]\n",
      "  [-0.00165]\n",
      "  [ 0.0112 ]]]\n",
      "Transation vector:\n",
      "[[[-1.83611]\n",
      "  [-3.89652]\n",
      "  [13.4579 ]]\n",
      "\n",
      " [[-2.14455]\n",
      "  [-3.89652]\n",
      "  [13.47443]]\n",
      "\n",
      " [[-1.30849]\n",
      "  [-4.02351]\n",
      "  [14.27926]]\n",
      "\n",
      " [[-1.38264]\n",
      "  [-3.96693]\n",
      "  [13.92483]]\n",
      "\n",
      " [[-1.30123]\n",
      "  [-3.99523]\n",
      "  [14.17617]]\n",
      "\n",
      " [[-1.14546]\n",
      "  [-4.09198]\n",
      "  [14.49543]]\n",
      "\n",
      " [[-2.39812]\n",
      "  [-3.94567]\n",
      "  [13.88608]]\n",
      "\n",
      " [[-1.5367 ]\n",
      "  [-3.97522]\n",
      "  [13.74941]]\n",
      "\n",
      " [[-2.61243]\n",
      "  [-3.87431]\n",
      "  [14.01971]]\n",
      "\n",
      " [[-1.69338]\n",
      "  [-3.94921]\n",
      "  [13.66769]]]\n"
     ]
    }
   ],
   "source": [
    "# reading the rotational vectors from saved files\n",
    "\n",
    "rot_v = []\n",
    "\n",
    "with open('images/left/rotat_vector.txt', 'r') as f:\n",
    "    for line in f :\n",
    "        rot_v.append([[float(num)] for num in line.split(' ')])\n",
    "\n",
    "np_rot_v = np.array(rot_v)\n",
    "\n",
    "# print(\"Rotation vector:\")    \n",
    "# print(np_rot_v)"
   ]
  },
  {
   "cell_type": "code",
   "execution_count": 49,
   "id": "d033fb30",
   "metadata": {},
   "outputs": [
    {
     "name": "stdout",
     "output_type": "stream",
     "text": [
      "ROTATIONAL MATRIX\n",
      "[[[ 0.99995884 -0.00690397 -0.00588703]\n",
      "  [ 0.00561404  0.98052484 -0.19631485]\n",
      "  [ 0.00712773  0.19627372  0.98052324]]]\n"
     ]
    }
   ],
   "source": [
    "r_obj = Rotation.from_rotvec(np.array(rot_v[0]).reshape(1,3))\n",
    "rot_matrix = r_obj.as_matrix()\n",
    "\n",
    "print(\"ROTATIONAL MATRIX\")\n",
    "print(rot_matrix)"
   ]
  },
  {
   "cell_type": "code",
   "execution_count": 47,
   "id": "53425740",
   "metadata": {},
   "outputs": [],
   "source": [
    "# Creation of rotation matrix from rotation vector\n",
    "xc, xs = cos(radians(np_rot_v[0][0][0])), sin(radians(np_rot_v[0][0][0]))\n",
    "yc, ys = cos(radians(np_rot_v[0][1][0])), sin(radians(np_rot_v[0][1][0]))\n",
    "zc, zs = cos(radians(np_rot_v[0][2][0])), sin(radians(np_rot_v[0][2][0]))"
   ]
  },
  {
   "cell_type": "code",
   "execution_count": 48,
   "id": "3a90048e",
   "metadata": {},
   "outputs": [],
   "source": [
    "#Creation of  rotation matrices along x,y and z\n",
    "rot_x_mtx = np.array([[1,0,0,0],[0,xc,-xs,0],[0,xs,-xc,0],[0,0,0,1]])\n",
    "rot_y_mtx = np.array([[yc,0,ys,0],[0,1,0,0],[-ys,0,yc,0],[0,0,0,1]])\n",
    "rot_z_mtx = np.array([[zc,-zs,0,0],[zs,zc,0,0],[0,0,1,0],[0,0,0,1]])"
   ]
  },
  {
   "cell_type": "code",
   "execution_count": 51,
   "id": "3fa1a6d3",
   "metadata": {},
   "outputs": [],
   "source": [
    "# reading the translation vectors from saved files\n",
    "\n",
    "tra_v = []\n",
    "\n",
    "with open('images/left/trans_vector.txt', 'r') as f:\n",
    "    for line in f :\n",
    "        tra_v.append([[float(num)] for num in line.split(' ')])\n",
    "        \n",
    "np_tra_v = np.array(tra_v)\n",
    "\n",
    "# print(\"Transation vector:\")    \n",
    "# print(np_tra_v)"
   ]
  },
  {
   "cell_type": "code",
   "execution_count": 50,
   "id": "1c670395",
   "metadata": {},
   "outputs": [
    {
     "name": "stdout",
     "output_type": "stream",
     "text": [
      "TRANSLATIONAL MATRIX\n",
      "[[ 1.       0.       0.      -1.83611]\n",
      " [ 0.       1.       0.      -3.89652]\n",
      " [ 0.       0.       1.      13.4579 ]\n",
      " [ 0.       0.       0.       1.     ]]\n"
     ]
    }
   ],
   "source": [
    "# Translated matrix\n",
    "tx = np_tra_v[0][0][0]\n",
    "ty = np_tra_v[0][1][0]\n",
    "tz = np_tra_v[0][2][0]\n",
    "trans_mtx = np.array([[1,0,0,tx],[0,1,0,ty],[0,0,1,tz],[0,0,0,1]])\n",
    "\n",
    "print(\"TRANSLATIONAL MATRIX\")\n",
    "print(trans_mtx)"
   ]
  },
  {
   "cell_type": "code",
   "execution_count": 60,
   "id": "f9ca23cb",
   "metadata": {},
   "outputs": [
    {
     "name": "stdout",
     "output_type": "stream",
     "text": [
      "CAMERA INTRINSIC MATRIX:\n",
      "[[753.75451, 0.0, 313.42094], [0.0, 745.91179, 307.95401], [0.0, 0.0, 1.0]]\n"
     ]
    }
   ],
   "source": [
    "# reading the intrinsic camera matrix from saved files\n",
    "\n",
    "c_mtx = []\n",
    " \n",
    "with open('images/left/camera_matrix.txt', 'r') as f:\n",
    "    for line in f :\n",
    "        c_mtx.append([float(num) for num in line.split(' ')])\n",
    "\n",
    "print(\"CAMERA INTRINSIC MATRIX:\")\n",
    "print(c_mtx)"
   ]
  },
  {
   "cell_type": "code",
   "execution_count": 61,
   "id": "5b528b94",
   "metadata": {},
   "outputs": [
    {
     "name": "stdout",
     "output_type": "stream",
     "text": [
      "Intrinsinc mtx:\n",
      "[[753.75451   0.      313.42094   0.     ]\n",
      " [  0.      745.91179 307.95401   0.     ]\n",
      " [  0.        0.        1.        1.     ]\n",
      " [  0.        0.        0.        1.     ]]\n"
     ]
    }
   ],
   "source": [
    "# Intrinsic matrix\n",
    "\n",
    "int_mtx = np.append(np.append(c_mtx, [[0],[0],[1]], axis=1), [np.array([0,0,0,1])], axis=0)\n",
    "print('Intrinsinc mtx:')\n",
    "print(int_mtx)"
   ]
  },
  {
   "cell_type": "code",
   "execution_count": 62,
   "id": "49b99a27",
   "metadata": {},
   "outputs": [
    {
     "name": "stdout",
     "output_type": "stream",
     "text": [
      "Extrinsinc mtx\n",
      "[[ 9.99999987e-01 -1.10349308e-04  1.14697558e-04 -1.83413641e+00]\n",
      " [ 1.09955742e-04  9.99994048e-01 -3.44840211e-03 -3.94310695e+00]\n",
      " [ 1.14319066e-04  3.44841468e-03 -9.99994048e-01 -1.34714666e+01]\n",
      " [ 0.00000000e+00  0.00000000e+00  0.00000000e+00  1.00000000e+00]]\n"
     ]
    }
   ],
   "source": [
    "# Extrinsic matrix\n",
    "\n",
    "ext_mtx = np.dot(rot_z_mtx, np.dot(rot_y_mtx, np.dot(rot_x_mtx, trans_mtx)))\n",
    "print('Extrinsinc mtx')\n",
    "print(ext_mtx)"
   ]
  },
  {
   "cell_type": "code",
   "execution_count": 63,
   "id": "8ebe8520",
   "metadata": {},
   "outputs": [
    {
     "name": "stdout",
     "output_type": "stream",
     "text": [
      "CAMERA MATRIX: \n",
      "[[ 7.53790331e+02  9.97629081e-01 -3.13332621e+02 -5.60472832e+03]\n",
      " [ 1.17222299e-01  7.46969304e+02 -3.10524381e+02 -7.08980213e+03]\n",
      " [ 1.14319066e-04  3.44841468e-03 -9.99994048e-01 -1.24714666e+01]\n",
      " [ 0.00000000e+00  0.00000000e+00  0.00000000e+00  1.00000000e+00]]\n"
     ]
    }
   ],
   "source": [
    "# Camera Matrix\n",
    "\n",
    "camera_matrix = np.dot(int_mtx, ext_mtx)\n",
    "print(\"CAMERA MATRIX: \")\n",
    "print(camera_matrix)"
   ]
  },
  {
   "cell_type": "code",
   "execution_count": 102,
   "id": "c2ae86b8",
   "metadata": {},
   "outputs": [
    {
     "name": "stdout",
     "output_type": "stream",
     "text": [
      "[[-1.32669188e-03 -1.47411186e-07  4.15744093e-01 -2.25185409e+00]\n",
      " [ 1.45356975e-07 -1.34066500e-03  4.16266102e-01 -4.31278610e+00]\n",
      " [-1.51165825e-07 -4.62321324e-06  1.00148895e+00  1.24564111e+01]\n",
      " [-0.00000000e+00 -0.00000000e+00 -0.00000000e+00 -1.00000000e+00]]\n"
     ]
    }
   ],
   "source": [
    "inverse_mat = -np.linalg.inv(camera_matrix) \n",
    "\n",
    "project_points1 = np.array([[5],[10],[30],[1]])\n",
    "project_points2 = np.array([[100],[90],[30],[1]])\n",
    "\n",
    "print(inverse_mat)\n",
    "\n",
    "real_dim_p1 = inverse_mat.dot(project_points1)\n",
    "real_dim_p2 = inverse_mat.dot(project_points2)"
   ]
  },
  {
   "cell_type": "code",
   "execution_count": 103,
   "id": "85de7e00",
   "metadata": {},
   "outputs": [
    {
     "name": "stdout",
     "output_type": "stream",
     "text": [
      "Here are the dimension\n",
      "Point 1\n",
      "x axis length -  10.213833755027938\n",
      "y axis length -  8.161791044605714\n",
      "z axis length -  42.50103246954882\n",
      "Point 2\n",
      "x axis length -  10.087786233597294\n",
      "y axis length -  8.054551653324141\n",
      "z axis length -  42.50064825173587\n"
     ]
    }
   ],
   "source": [
    "print(\"Here are the dimension\")\n",
    "print(\"Point 1\")\n",
    "\n",
    "print(\"x axis length - \", real_dim_p1[0][0])\n",
    "print(\"y axis length - \", real_dim_p1[1][0])\n",
    "print(\"z axis length - \", real_dim_p1[2][0])\n",
    "\n",
    "print(\"Point 2\")\n",
    "print(\"x axis length - \", real_dim_p2[0][0])\n",
    "print(\"y axis length - \", real_dim_p2[1][0])\n",
    "print(\"z axis length - \", real_dim_p2[2][0])"
   ]
  },
  {
   "cell_type": "code",
   "execution_count": 107,
   "id": "b7e1b29e",
   "metadata": {},
   "outputs": [
    {
     "name": "stdout",
     "output_type": "stream",
     "text": [
      "16.54944480173842 cm\n"
     ]
    }
   ],
   "source": [
    "# distance between them \n",
    "from math import sqrt \n",
    "\n",
    "dist = sqrt((real_dim_p2[0][0]-real_dim_p1[0][0])**2 +\n",
    "           (real_dim_p2[1][0]-real_dim_p1[1][0])**2 +\n",
    "           (real_dim_p2[2][0]-real_dim_p1[2][0])**2 )\n",
    "\n",
    "print(dist*100, \"cm\")"
   ]
  },
  {
   "cell_type": "code",
   "execution_count": null,
   "id": "bcf3e0f9",
   "metadata": {},
   "outputs": [],
   "source": []
  }
 ],
 "metadata": {
  "kernelspec": {
   "display_name": "Python 3 (ipykernel)",
   "language": "python",
   "name": "python3"
  },
  "language_info": {
   "codemirror_mode": {
    "name": "ipython",
    "version": 3
   },
   "file_extension": ".py",
   "mimetype": "text/x-python",
   "name": "python",
   "nbconvert_exporter": "python",
   "pygments_lexer": "ipython3",
   "version": "3.10.6"
  }
 },
 "nbformat": 4,
 "nbformat_minor": 5
}
